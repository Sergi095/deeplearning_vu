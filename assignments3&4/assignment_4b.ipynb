{
  "cells": [
    {
      "cell_type": "markdown",
      "metadata": {
        "colab_type": "text",
        "id": "view-in-github"
      },
      "source": [
        "<a href=\"https://colab.research.google.com/github/Sergi095/deeplearning_vu/blob/master/assignments3%264/assignment_4b.ipynb\" target=\"_parent\"><img src=\"https://colab.research.google.com/assets/colab-badge.svg\" alt=\"Open In Colab\"/></a>"
      ]
    },
    {
      "cell_type": "markdown",
      "metadata": {
        "id": "aJ_pmgxvGur9"
      },
      "source": [
        "# Assignment 4b - Graph Convolutional Networks\n",
        "## Deep Learning Course - Vrije Universiteit Amsterdam, 2023"
      ]
    },
    {
      "cell_type": "markdown",
      "metadata": {
        "id": "ZCNbruvWK50y"
      },
      "source": [
        "# NAMES:\n",
        "\n",
        "S.A Gutierrez Maury StudentID(2647606)\n",
        "\n",
        "M.J. de Swart Milena StudentID(2717671)\n",
        "\n",
        "Andreanne Proulx StudentID(2759241)"
      ]
    },
    {
      "cell_type": "markdown",
      "metadata": {
        "id": "mEneMITS2agU"
      },
      "source": [
        "#### Instructions on how to use this notebook:\n",
        "\n",
        "This notebook is hosted on Google Colab. To be able to work on it, you have to create your own copy. Go to *File* and select *Save a copy in Drive*.\n",
        "\n",
        "You can also avoid using Colab entirely, and download the notebook to run it on your own machine. If you choose this, go to *File* and select *Download .ipynb*.\n",
        "\n",
        "The advantage of using Colab is that you can use a GPU. You can complete this tutorial with a CPU, but it will take a bit longer. Furthermore, we encourage you to train using the GPU not only for faster training, but also to get experience with this setting. This includes moving models and tensors to the GPU and back. This experience is very valuable because for many interesting models and large datasets (like large CNNs for ImageNet, or Transformer models trained on Wikipedia), training on GPU is the only feasible way.\n",
        "\n",
        "The default Colab runtime does not have a GPU. To change this, go to *Runtime - Change runtime type*, and select *GPU* as the hardware accelerator. The GPU that you get changes according to what resources are available at the time, and its memory can go from a 5GB, to around 18GB if you are lucky. If you are curious, you can run the following in a code cell to check:\n",
        "\n",
        "```sh\n",
        "!nvidia-smi\n",
        "```\n",
        "\n",
        "Note that despite the name, Google Colab does  not support collaborative work without issues. When two or more people edit the notebook concurrently, only one version will be saved. You can choose to do group programming with one person sharing the screen with the others, or make multiple copies of the notebook to work concurrently.\n",
        "\n",
        "**Submission:** Upload your notebook in .ipynb format to Canvas. The code and answers to the questions in the notebook are sufficient, no separate report is expected."
      ]
    },
    {
      "cell_type": "code",
      "execution_count": null,
      "metadata": {
        "colab": {
          "base_uri": "https://localhost:8080/"
        },
        "id": "lBgoJIpdLI2Y",
        "outputId": "48b75fac-2c58-4421-9a48-521ad40d27c6"
      },
      "outputs": [
        {
          "name": "stdout",
          "output_type": "stream",
          "text": [
            "Thu Dec 21 17:55:20 2023       \n",
            "+---------------------------------------------------------------------------------------+\n",
            "| NVIDIA-SMI 535.104.05             Driver Version: 535.104.05   CUDA Version: 12.2     |\n",
            "|-----------------------------------------+----------------------+----------------------+\n",
            "| GPU  Name                 Persistence-M | Bus-Id        Disp.A | Volatile Uncorr. ECC |\n",
            "| Fan  Temp   Perf          Pwr:Usage/Cap |         Memory-Usage | GPU-Util  Compute M. |\n",
            "|                                         |                      |               MIG M. |\n",
            "|=========================================+======================+======================|\n",
            "|   0  Tesla T4                       Off | 00000000:00:04.0 Off |                    0 |\n",
            "| N/A   46C    P8              10W /  70W |      0MiB / 15360MiB |      0%      Default |\n",
            "|                                         |                      |                  N/A |\n",
            "+-----------------------------------------+----------------------+----------------------+\n",
            "                                                                                         \n",
            "+---------------------------------------------------------------------------------------+\n",
            "| Processes:                                                                            |\n",
            "|  GPU   GI   CI        PID   Type   Process name                            GPU Memory |\n",
            "|        ID   ID                                                             Usage      |\n",
            "|=======================================================================================|\n",
            "|  No running processes found                                                           |\n",
            "+---------------------------------------------------------------------------------------+\n"
          ]
        }
      ],
      "source": [
        "!nvidia-smi"
      ]
    },
    {
      "cell_type": "markdown",
      "metadata": {
        "id": "tsdc7fDp40rQ"
      },
      "source": [
        "### Introduction\n",
        "\n",
        "Graphs are very useful data structures that allow us to represent sets of entities and the way they are related among each other. In a graph, entities are also known as *nodes*, and any link between entities is also called an *edge*.\n",
        "\n",
        "Examples of real world objects that can be modeled as graphs are social networks, where entities are people and relations denote friendship; and molecules, where entities are atoms and relations indicate a bond between them.\n",
        "\n",
        "There has been increased interest in the recent years in the application of deep learning architectures to graph-structured data, for tasks like predicting missing relations between entities, classifying entities, and classifying graphs. This interest has been spurred by the introduction of Graph Convolutional Networks (GCNs).\n",
        "\n",
        "In this tutorial, you will implement and experiment with one of the first versions of the GCN, proposed by Thomas Kipf and Max Welling in their 2017 paper, [Semi-supervised Classification with Graph Convolutional Networks](https://arxiv.org/abs/1609.02907). In particular, the goals of this tutorial are to\n",
        "\n",
        "- Understand how GCNs are formulated\n",
        "- Implement the GCN using PyTorch\n",
        "- Train and evaluate a model for semi-supervised node classification in citation networks\n",
        "- Train and evaluate a model for binary classification of molecules"
      ]
    },
    {
      "cell_type": "markdown",
      "metadata": {
        "id": "RvsuVNczG6pP"
      },
      "source": [
        "### Representing graphs\n",
        "\n",
        "Suppose we have the following graph:\n",
        "\n",
        "<img src=\"https://raw.githubusercontent.com/dfdazac/dlvu-a5/main/img/01-graph.png\" width=\"200\">\n",
        "\n",
        "This is an undirected graph (since the edges have no specified direction) with 4 nodes. One way to represent the connectivity structure of the graph is by means of the **adjacency matrix**. The $i$-th row of the matrix contains a 1 in the $j$-th column, if nodes $i$ and $j$ are connected. For an undirected graph like the one above, this means that the adjacency matrix\n",
        "\n",
        "- Is symmetric (e.g. an edge between 0 and 2 is equivalent as an edge between 2 and 0)\n",
        "- Is square, of size $n\\times n$ where $n$ is the number of nodes\n",
        "\n",
        "The adjacency matrix for the graph above is then the following:\n",
        "\n",
        "$$\n",
        "A =\n",
        "\\begin{bmatrix}\n",
        "0 & 0 & 1 & 0 \\\\\n",
        "0 & 0 & 1 & 0 \\\\\n",
        "1 & 1 & 0 & 1 \\\\\n",
        "0 & 0 & 1 & 0\n",
        "\\end{bmatrix}\n",
        "$$\n",
        "\n",
        "A second matrix of interest is the **degree matrix**. This is a diagonal matrix where the $i$-th element of the diagonal indicates the number of edges connected to node $i$. Note that these can be obtained from $A$ by summing across the columns, or the rows. For our example, the degree matrix is\n",
        "\n",
        "$$\n",
        "D = \\begin{bmatrix}\n",
        "1 & 0 & 0 & 0 \\\\\n",
        "0 & 1 & 0 & 0 \\\\\n",
        "0 & 0 & 3 & 0 \\\\\n",
        "0 & 0 & 0 & 1\n",
        "\\end{bmatrix}\n",
        "$$\n",
        "\n",
        "For specific applications, each node in the graph will have an associated vector of features $x\\in\\mathbb{R}^c$. If our graph is a social network, then the vector of features can contain information like age, location, and musical tastes, in a specific numeric format. In the case of a molecule, the node could represent an atom and have features like the atomic mass, etc. We can lay out the features in a matrix $X\\in\\mathbb{R}^{n\\times c}$, so that the feature vector for node $i$ is in the $i$-th row."
      ]
    },
    {
      "cell_type": "markdown",
      "metadata": {
        "id": "zCEQ2ffzHCf2"
      },
      "source": [
        "### Loading a citation network\n",
        "\n",
        "To move to a real world example, we will start with the Cora dataset. This dataset represents a citation network, where nodes are scientific publications, edges denote citations between them, and features are a [bag-of-words](https://en.wikipedia.org/wiki/Bag-of-words_model) extracted from their contents.\n",
        "\n",
        "This graph contains labels for nodes, that represent a specific topic. We will use these for a node classification task.\n",
        "\n",
        "To easily load it, we will use [PyTorch Geometric](https://pytorch-geometric.readthedocs.io/en/latest/index.html) (PyG), a deep learning library for graph-structured data."
      ]
    },
    {
      "cell_type": "code",
      "execution_count": null,
      "metadata": {
        "id": "Yd2bTEBADt-a"
      },
      "outputs": [],
      "source": [
        "# Install PyTorch Geometric\n",
        "import torch\n",
        "try:\n",
        "    import torch_geometric\n",
        "except ModuleNotFoundError:\n",
        "    # Installing torch geometric packages with specific CUDA+PyTorch version.\n",
        "    # See https://pytorch-geometric.readthedocs.io/en/latest/notes/installation.html for details\n",
        "    TORCH = torch.__version__.split('+')[0]\n",
        "    print(TORCH)\n",
        "    print(torch.version.cuda)\n",
        "    CUDA = 'cu' + torch.version.cuda.replace('.','')\n",
        "    print(CUDA)\n",
        "\n",
        "\n",
        "    !pip install torch-scatter     -f https://pytorch-geometric.com/whl/torch-{TORCH}+{CUDA}.html\n",
        "    !pip install torch-sparse      -f https://pytorch-geometric.com/whl/torch-{TORCH}+{CUDA}.html\n",
        "    !pip install torch-geometric\n",
        "    import torch_geometric"
      ]
    },
    {
      "cell_type": "markdown",
      "metadata": {
        "id": "V0Nvh_-qEo1q"
      },
      "source": [
        "We can now use the library to download and import the dataset. Initializing the `Planetoid` class returns a `Dataset` object that can contain multiple graphs. In this task we will only use the `Cora` dataset (the citation network) and hence, we will select only the first element."
      ]
    },
    {
      "cell_type": "code",
      "execution_count": null,
      "metadata": {
        "colab": {
          "base_uri": "https://localhost:8080/"
        },
        "id": "vuOvwhsHD2YK",
        "outputId": "52fdde99-7fbe-4785-e682-2a0d6012fa22"
      },
      "outputs": [
        {
          "name": "stderr",
          "output_type": "stream",
          "text": [
            "Downloading https://github.com/kimiyoung/planetoid/raw/master/data/ind.cora.x\n",
            "Downloading https://github.com/kimiyoung/planetoid/raw/master/data/ind.cora.tx\n",
            "Downloading https://github.com/kimiyoung/planetoid/raw/master/data/ind.cora.allx\n",
            "Downloading https://github.com/kimiyoung/planetoid/raw/master/data/ind.cora.y\n",
            "Downloading https://github.com/kimiyoung/planetoid/raw/master/data/ind.cora.ty\n",
            "Downloading https://github.com/kimiyoung/planetoid/raw/master/data/ind.cora.ally\n",
            "Downloading https://github.com/kimiyoung/planetoid/raw/master/data/ind.cora.graph\n",
            "Downloading https://github.com/kimiyoung/planetoid/raw/master/data/ind.cora.test.index\n",
            "Processing...\n",
            "Done!\n"
          ]
        }
      ],
      "source": [
        "from torch_geometric.datasets import Planetoid\n",
        "data = Planetoid(root='data/Planetoid', name='Cora')[0]"
      ]
    },
    {
      "cell_type": "code",
      "execution_count": null,
      "metadata": {
        "colab": {
          "base_uri": "https://localhost:8080/"
        },
        "id": "whIZW_zwGEyG",
        "outputId": "eb0b584e-2bed-47d7-8677-3440c92534ce"
      },
      "outputs": [
        {
          "name": "stdout",
          "output_type": "stream",
          "text": [
            "Tesla T4\n",
            "cuda\n"
          ]
        }
      ],
      "source": [
        "device_name = torch.cuda.get_device_name()\n",
        "print(device_name)\n",
        "device = torch.device('cuda' if torch.cuda.is_available() else 'cpu')\n",
        "print(device)"
      ]
    },
    {
      "cell_type": "markdown",
      "metadata": {
        "id": "v4WZkoiHFyZm"
      },
      "source": [
        "\n",
        "#### Question 1\n",
        "\n",
        "The `data` object is an instance of the `Data` class in PyG. Check the [documentation](https://pytorch-geometric.readthedocs.io/en/latest/modules/data.html) and report the following properties of the graph:\n",
        "\n",
        "- Number of nodes\n",
        "- Number of edges\n",
        "- The dimension $c$ of the feature vectors $x\\in\\mathbb{R}^c$\n",
        "- The number of targets for the classification task"
      ]
    },
    {
      "cell_type": "code",
      "execution_count": null,
      "metadata": {
        "colab": {
          "base_uri": "https://localhost:8080/"
        },
        "id": "sjVuGJhlJC_7",
        "outputId": "4b890bf1-0d04-4c0f-ccbe-5a48c6c926d2"
      },
      "outputs": [
        {
          "name": "stdout",
          "output_type": "stream",
          "text": [
            "Number of nodes:  2708\n",
            "Number of edges:  10556\n",
            "Dimension of feature vectors:  1433\n",
            "Number of targets:  7\n"
          ]
        }
      ],
      "source": [
        "# Your answer here\n",
        "\n",
        "# report the number of nodes and edges in the graph\n",
        "print('Number of nodes: ', data.num_nodes)\n",
        "print('Number of edges: ', data.num_edges)\n",
        "# report dimension c of the feature vectors\n",
        "print('Dimension of feature vectors: ', data.num_features)\n",
        "# report the number of target classes\n",
        "print('Number of targets: ', len(set(data.y.tolist())))\n"
      ]
    },
    {
      "cell_type": "markdown",
      "metadata": {
        "id": "G4DrGDAuJ2YO"
      },
      "source": [
        "#### Question 2\n",
        "\n",
        "In PyG, edges are provided in a tensor of shape (2, number of edges). You can access it via `data.edge_index`. Each column in this tensor contains the IDs for two nodes that are connected in the graph.\n",
        "\n",
        "We saw that in an undirected graph, an edge between nodes $i$ and $j$ adds a value of 1 to positions $(i, j)$ and $(j, i)$ of the adjacency matrix. Is this also true for the edge index? That is, if there is an edge $(i, j)$ in `data.edge_index`, is there also an edge for $(j, i)$? This is important to know for the next steps of the implementation."
      ]
    },
    {
      "cell_type": "code",
      "execution_count": null,
      "metadata": {
        "colab": {
          "base_uri": "https://localhost:8080/"
        },
        "id": "jTRfNxibarRZ",
        "outputId": "d077fabe-4f62-4c97-ee18-ea02a655bc34"
      },
      "outputs": [
        {
          "name": "stdout",
          "output_type": "stream",
          "text": [
            "Is edge_index bidirectional?  True\n"
          ]
        }
      ],
      "source": [
        "# Your answer here\n",
        "def is_edge_index_bidirectional(edge_index: torch.Tensor) -> bool:\n",
        "    # find edges\n",
        "    edge_set = set(tuple(edge) for edge in edge_index.t().tolist())\n",
        "    # find bidirectional edges from set\n",
        "    for i, j in edge_set:\n",
        "        if (j, i) not in edge_set:\n",
        "            return False\n",
        "    return True\n",
        "\n",
        "\n",
        "print('Is edge_index bidirectional? ', is_edge_index_bidirectional(data.edge_index))"
      ]
    },
    {
      "cell_type": "markdown",
      "metadata": {
        "id": "YOpS3QTYiOqp"
      },
      "source": [
        "#### Question 3\n",
        "\n",
        "In graphs, especially large ones, the adjacency matrix is **sparse**: most entries are zero. Sparse matrices allow for efficient storage and computation.\n",
        "\n",
        "To prepare and pre-process sparse matrices, we will use [`scipy.sparse`](https://docs.scipy.org/doc/scipy/reference/sparse.html). Once the matrices are ready, we will convert them to PyTorch tensors.\n",
        "\n",
        "We will use the [Sparse COO format](https://en.wikipedia.org/wiki/Sparse_matrix#Coordinate_list_(COO)). We encourage you to first get familiar with how it works before continuing with the rest of the notebook.\n",
        "\n",
        "- Use the [`scipy.sparse.coo_matrix()`](https://docs.scipy.org/doc/scipy/reference/generated/scipy.sparse.coo_matrix.html) function to build the adjacency matrix. Think of what arguments are needed, and how you can obtain them from the graph data loaded above.\n",
        "- Use the `sum()` method of sparse matrices, together with `scipy.sparse.diags()`, to compute the degree matrix using the definition above.\n",
        "\n",
        "Both resulting matrices must be sparse of type `float32`."
      ]
    },
    {
      "cell_type": "code",
      "execution_count": null,
      "metadata": {
        "colab": {
          "base_uri": "https://localhost:8080/"
        },
        "id": "QC01OjbJs92-",
        "outputId": "4d7bfc2d-0de2-4bfe-8ead-437d3aab5523"
      },
      "outputs": [
        {
          "name": "stdout",
          "output_type": "stream",
          "text": [
            "[[0. 0. 0. ... 0. 0. 0.]\n",
            " [0. 0. 1. ... 0. 0. 0.]\n",
            " [0. 1. 0. ... 0. 0. 0.]\n",
            " ...\n",
            " [0. 0. 0. ... 0. 0. 0.]\n",
            " [0. 0. 0. ... 0. 0. 1.]\n",
            " [0. 0. 0. ... 0. 1. 0.]]\n",
            "[[3. 0. 0. ... 0. 0. 0.]\n",
            " [0. 3. 0. ... 0. 0. 0.]\n",
            " [0. 0. 5. ... 0. 0. 0.]\n",
            " ...\n",
            " [0. 0. 0. ... 1. 0. 0.]\n",
            " [0. 0. 0. ... 0. 4. 0.]\n",
            " [0. 0. 0. ... 0. 0. 4.]]\n"
          ]
        }
      ],
      "source": [
        "\n",
        "import numpy as np\n",
        "from scipy.sparse import coo_matrix, diags\n",
        "\n",
        "rows, cols = data.edge_index\n",
        "n = data.num_nodes\n",
        "adj_matrix = coo_matrix((np.ones(len(rows)), (rows, cols)), shape=(n, n))\n",
        "print(adj_matrix.todense())\n",
        "\n",
        "degree_matrix = diags(sum(adj_matrix.toarray()))\n",
        "print(degree_matrix.todense())"
      ]
    },
    {
      "cell_type": "markdown",
      "metadata": {
        "id": "AIEJyQi2TzyY"
      },
      "source": [
        "You might wonder why we suggest to use a scipy sparse matrix, while also PyTorch supports them. The reason is that in the next step, we will be multiplying two sparse matrices, an operation not supported in PyTorch. PyTorch only allows multiplying a sparse matrix with a dense one, something which we will be doing at a later stage.\n",
        "\n"
      ]
    },
    {
      "cell_type": "markdown",
      "metadata": {
        "id": "YlmzSb0up4LB"
      },
      "source": [
        "### The Graph Convolutional Network\n",
        "\n",
        "The goal of the graph convolution is to take the feature vectors of all nodes $X\\in\\mathbb{R}^{n\\times c}$, and propagate them along the existing edges, to obtain updated representations $Z\\in\\mathbb{R}^{n\\times d}$.\n",
        "\n",
        "\n",
        "The GCN is initially motivated as performing a convolution, similarly as it is done in CNNs for images, for graph-structured data. In Kipf and Welling (2017), a theoretical derivation leads to the following formula:\n",
        "\n",
        "$$\n",
        "Z = \\tilde{D}^{-\\frac{1}{2}}\\tilde{A}\\tilde{D}^{-\\frac{1}{2}}XW\n",
        "$$\n",
        "\n",
        "where\n",
        "\n",
        "- $W\\in\\mathbb{R}^{c\\times d}$ is a matrix of parameters to be learned via gradient descent\n",
        "- $\\tilde{A} = A + I_n$, where $I_n$ is an $n\\times n$ identity matrix\n",
        "- $\\tilde{D}$ is the degree matrix computed with $\\tilde{A}$ as the adjacency matrix\n",
        "\n",
        "If we define $\\hat{A} = \\tilde{D}^{-\\frac{1}{2}}\\tilde{A}\\tilde{D}^{-\\frac{1}{2}}$, the graph convolution can be written as $Z = \\hat{A}XW$."
      ]
    },
    {
      "cell_type": "markdown",
      "metadata": {
        "id": "LL4b-MTvysBp"
      },
      "source": [
        "#### Question 4\n",
        "\n",
        "Given the formula for the GCN, explain why it operates by propagating feature vectors across the graph. To answer this, it might be useful to recall the definitions of the adjacency and degree matrices, and how they are involved in the formula."
      ]
    },
    {
      "cell_type": "markdown",
      "metadata": {
        "id": "Vgx2SkTTyiSN"
      },
      "source": [
        "*Your answer here*\n",
        "\n",
        "The GCN model uses these two matrices to propagate the feature vectors across the graph. In the GCN formula, the feature vector of the i-th node is multiplied by the adjacency matrix, which propagates the features to the neighbors of the i-th node. Then, the degree matrix is used to normalize the feature vector by dividing it by the degree of the i-th node. This normalization step ensures that the model is not affected by the degree of the node.\n",
        "\n",
        "This process of propagating the feature vectors across the graph using the adjacency matrix and degree matrix is iterated for multiple layers, with the output of one layer becoming the input of the next"
      ]
    },
    {
      "cell_type": "markdown",
      "metadata": {
        "id": "QUGABEqxylsd"
      },
      "source": [
        "#### Question 5\n",
        "\n",
        "Compute the **normalized adja|cency matrix** $\\hat{A}$. The result should be a sparse matrix."
      ]
    },
    {
      "cell_type": "code",
      "execution_count": null,
      "metadata": {
        "colab": {
          "base_uri": "https://localhost:8080/"
        },
        "id": "GPZbnSaSyDzO",
        "outputId": "48c778dd-fe50-4344-a7ab-eff5f38afed1"
      },
      "outputs": [
        {
          "name": "stdout",
          "output_type": "stream",
          "text": [
            "[[0.25       0.         0.         ... 0.         0.         0.        ]\n",
            " [0.         0.25       0.20412415 ... 0.         0.         0.        ]\n",
            " [0.         0.20412415 0.16666667 ... 0.         0.         0.        ]\n",
            " ...\n",
            " [0.         0.         0.         ... 0.5        0.         0.        ]\n",
            " [0.         0.         0.         ... 0.         0.2        0.2       ]\n",
            " [0.         0.         0.         ... 0.         0.2        0.2       ]]\n"
          ]
        }
      ],
      "source": [
        "# Your answer here\n",
        "# A tilde = A + I\n",
        "A_tilde = adj_matrix.toarray() + np.eye(adj_matrix.shape[0])\n",
        "# D = degree matrix computed with A tilde as adjacency matrix\n",
        "D = diags(sum(A_tilde))\n",
        "# D^(-1/2)\n",
        "D_inv_sqrt = D.power(-0.5)\n",
        "# A hat = D^(-1/2) * A tilde * D^(-1/2)\n",
        "A_hat = D_inv_sqrt @ A_tilde @ D_inv_sqrt\n",
        "\n",
        "# make matrix sparse\n",
        "A_hat = coo_matrix(A_hat)\n",
        "\n",
        "print(A_hat.toarray())"
      ]
    },
    {
      "cell_type": "markdown",
      "metadata": {
        "id": "LLLdGdZoMEy-"
      },
      "source": [
        "#### Question 6\n",
        "\n",
        "So far we have used scipy to build and compute sparse matrices. Since we want to train a GCN with PyTorch, we need to convert $\\hat{A}$ into a sparse PyTorch tensor. You can do this with the [`torch.sparse_coo_tensor()`](https://pytorch.org/docs/stable/generated/torch.sparse_coo_tensor.html) function, making sure to specify `torch.float` as the type."
      ]
    },
    {
      "cell_type": "code",
      "execution_count": null,
      "metadata": {
        "colab": {
          "base_uri": "https://localhost:8080/"
        },
        "id": "dgDsVHzEM32F",
        "outputId": "a9dcf120-4a81-4eee-a0f9-67936f8755b8"
      },
      "outputs": [
        {
          "name": "stdout",
          "output_type": "stream",
          "text": [
            "tensor([[0.2500, 0.0000, 0.0000,  ..., 0.0000, 0.0000, 0.0000],\n",
            "        [0.0000, 0.2500, 0.2041,  ..., 0.0000, 0.0000, 0.0000],\n",
            "        [0.0000, 0.2041, 0.1667,  ..., 0.0000, 0.0000, 0.0000],\n",
            "        ...,\n",
            "        [0.0000, 0.0000, 0.0000,  ..., 0.5000, 0.0000, 0.0000],\n",
            "        [0.0000, 0.0000, 0.0000,  ..., 0.0000, 0.2000, 0.2000],\n",
            "        [0.0000, 0.0000, 0.0000,  ..., 0.0000, 0.2000, 0.2000]])\n"
          ]
        }
      ],
      "source": [
        "# Your answer here\n",
        "indices = torch.tensor(np.vstack((A_hat.row, A_hat.col)), dtype=torch.long)\n",
        "values = torch.tensor(A_hat.data, dtype=torch.float)\n",
        "A_hat = torch.sparse_coo_tensor(indices, values, size=A_hat.shape)\n",
        "print(A_hat.to_dense())\n"
      ]
    },
    {
      "cell_type": "markdown",
      "metadata": {
        "id": "eAlRVT5aODkX"
      },
      "source": [
        "#### Question 7\n",
        "\n",
        "We now have all the ingredients to build a GCN layer. Implement a class (inheriting from `torch.nn.Module`) with a learnable matrix of weights $W\\in\\mathbb{R}^{c\\times d}$. Make sure to\n",
        "\n",
        "- Call this class `GCNLayer`\n",
        "- The `__init__()` constructor should take as argument the number of input and output features.\n",
        "- Use `torch.nn.init.kaiming_uniform_` to initialize $W$.\n",
        "- Define the `forward` method, which takes as input $X$ and $\\hat{A}$ and returns $Z$. Note that multiplications involving the sparse matrix $\\hat{A}$ have to be done with `torch.spmm`.\n",
        "\n",
        "Once you have implemented the class, instantiate a layer with the correct number of input features for the Cora dataset, and a number of output features of your choice. Do a forward pass and report the shape of the output tensor."
      ]
    },
    {
      "cell_type": "code",
      "execution_count": null,
      "metadata": {
        "id": "JFCohhhwPpTT"
      },
      "outputs": [],
      "source": [
        "# Your answer here\n",
        "\n",
        "class GCNLayer(torch.nn.Module):\n",
        "\n",
        "    def __init__(self, in_features: int, out_features: int) -> None:\n",
        "        super().__init__()\n",
        "        self.in_features = in_features\n",
        "        self.out_features = out_features\n",
        "        self.weight = torch.nn.Parameter(torch.nn.init.kaiming_uniform_(torch.empty(in_features, out_features, dtype=torch.float)),\n",
        "                                         requires_grad=True)\n",
        "        self.clear_cache()\n",
        "\n",
        "    # forward pass\n",
        "    def forward(self, X: torch.Tensor, A_tilde: torch.Tensor) -> torch.Tensor:\n",
        "        '''\n",
        "        x: input feature matrix of shape (N, in_features)\n",
        "        A_hat: normalized adjacency matrix of shape (N, N) -> torch.sparse_coo_tensor\n",
        "\n",
        "        return: output feature matrix Z of shape (N, out_features)\n",
        "\n",
        "        '''\n",
        "        # print(f'x: {X.shape}, W {self.weight.shape}')\n",
        "        Z_ = torch.mm(X, self.weight)\n",
        "        Z = torch.spmm(A_tilde, Z_)\n",
        "        return Z\n",
        "\n",
        "    def clear_cache(self) -> None:\n",
        "        self.X = None\n",
        "        self.A_hat = None\n",
        "\n",
        "\n"
      ]
    },
    {
      "cell_type": "code",
      "execution_count": null,
      "metadata": {
        "colab": {
          "base_uri": "https://localhost:8080/"
        },
        "id": "BKU8HCISGEyI",
        "outputId": "646571cb-b5e0-4be2-ba32-9b355095c50b"
      },
      "outputs": [
        {
          "name": "stdout",
          "output_type": "stream",
          "text": [
            "torch.Size([1433, 7])\n",
            "torch.Size([2708, 7])\n"
          ]
        }
      ],
      "source": [
        "# implementing layers\n",
        "layer = GCNLayer(data.x.shape[1], len(torch.unique(data.y)))\n",
        "layer.clear_cache()\n",
        "layer.to('cpu')\n",
        "data.x = data.x.to('cpu')\n",
        "A_hat = A_hat.to('cpu')\n",
        "print(layer.weight.shape)\n",
        "output = layer(data.x, A_hat)\n",
        "print(output.shape)"
      ]
    },
    {
      "cell_type": "markdown",
      "metadata": {
        "id": "1ptAiizZUKaM"
      },
      "source": [
        "#### Question 8\n",
        "\n",
        "As we have seen so far, the GCN layer implements a special type of linear transformation of the inputs. However, it is often beneficial in deep learning to stack multiple, non-linear transformations of the input features. Implement a second module class for a model with two GCN layers (use the module you implemented in the previous question).\n",
        "\n",
        "- Call this class `GCN`\n",
        "- The constructor must now take as input the number of input features, the output dimension of the first layer (this is the hidden layer), and the output dimension of the output layer.\n",
        "- In the forward pass, add a ReLU activation function after the first layer."
      ]
    },
    {
      "cell_type": "code",
      "execution_count": null,
      "metadata": {
        "id": "2zhyu3S9Vj3b"
      },
      "outputs": [],
      "source": [
        "# Your answer here\n",
        "\n",
        "class GCN(torch.nn.Module): # for 2 layers\n",
        "\n",
        "    def __init__(self, in_features: int, hidden_features: int, out_features: int):\n",
        "        super().__init__()\n",
        "        self.in_features = in_features\n",
        "        self.hidden_features = hidden_features\n",
        "        self.out_features = out_features\n",
        "        self.layers = torch.nn.ModuleList()\n",
        "        self.layers.append(GCNLayer(in_features, hidden_features)) # first layer\n",
        "        self.layers.append(torch.nn.ReLU()) # activation function\n",
        "        self.layers.append(GCNLayer(hidden_features, out_features)) # second layer\n",
        "\n",
        "    # do forward with A_hat\n",
        "    def forward(self, X: torch.Tensor, A_hat: torch.Tensor) -> torch.Tensor:\n",
        "        for layer in self.layers:\n",
        "            if isinstance(layer, GCNLayer):\n",
        "                X = layer(X, A_hat)\n",
        "                layer.clear_cache()\n",
        "            else:\n",
        "                X = layer(X)\n",
        "        return X\n"
      ]
    },
    {
      "cell_type": "code",
      "execution_count": null,
      "metadata": {
        "colab": {
          "base_uri": "https://localhost:8080/"
        },
        "id": "52RXMhI8GEyJ",
        "outputId": "8fc039c3-ff35-431a-f4e3-f9e4a2f94d59"
      },
      "outputs": [
        {
          "name": "stdout",
          "output_type": "stream",
          "text": [
            "GCN(\n",
            "  (layers): ModuleList(\n",
            "    (0): GCNLayer()\n",
            "    (1): ReLU()\n",
            "    (2): GCNLayer()\n",
            "  )\n",
            ")\n"
          ]
        }
      ],
      "source": [
        "# build model\n",
        "hidden_features = 32\n",
        "model = GCN(data.x.shape[1], hidden_features, len(torch.unique(data.y)))\n",
        "print(model)"
      ]
    },
    {
      "cell_type": "markdown",
      "metadata": {
        "id": "6NVB-3I5Wfkf"
      },
      "source": [
        "### GCNs for semi-supervised node classification\n",
        "\n",
        "Now that we have a GCN with two layers, we can test its performance in a node classification task. We will pass the input node features $X$ through the GCN layers, and the output will be of size $n\\times k$ where $k$ is the number of classes (which you found in question 1). The label denotes the topic an article in the citation network belongs to (e.g. physics, computer science, etc.)."
      ]
    },
    {
      "cell_type": "markdown",
      "metadata": {
        "id": "trc4dSa7cuQj"
      },
      "source": [
        "#### Question 9\n",
        "\n",
        "Note that the `data` object contains all labels (for all splits) in `data.y`, and binary masks for the train, validation, and test splits in `data.train_mask`, `data.val_mask`, and `data.test_mask`, respectively. These masks are the same size as `data.y`, and indicate which labels belong to which split.\n",
        "\n",
        "- Create a GCN with two layers (using the class from the previous question), with 32 as the hidden dimension, and the number of output features equal to the number of classes in the Cora dataset.\n",
        "\n",
        "- Use the Adam optimizer with a learning rate of 0.01.\n",
        "\n",
        "- Implement a training loop for the GCN. At each step, pass $X$ and $\\hat{A}$ to the GCN to obtain the logits. Compute the mean cross-entropy loss **only for the training instances**, using the binary masks.\n",
        "\n",
        "- After each training step, evaluate the accuracy for the validation instances.\n",
        "\n",
        "- Train for 100 epochs. Once training is finished, plot the training loss and validation accuracy (in a graph in function of the epoch number), and report the accuracy in the test set.\n",
        "\n",
        "You should obtain an accuracy over 75% on both the validation and test sets. You can also compare your results with the original paper, which also contains results for the Cora dataset. Give a brief discussion on the results of your experiments.\n",
        "\n",
        "Note that in contrast with other tasks, like image classification on some datasets, we don't use mini-batches here. The whole matrix of features and the adjacency is passed to the GCN in one step."
      ]
    },
    {
      "cell_type": "code",
      "execution_count": null,
      "metadata": {
        "id": "5Z2OP_ZRWlmo"
      },
      "outputs": [],
      "source": [
        "# Your answer here\n",
        "import torch.nn.functional as F\n",
        "\n",
        "\n",
        "def accuracy(output: torch.Tensor, labels: torch.Tensor) -> float:\n",
        "    '''\n",
        "    output: output tensor of shape (N, C)\n",
        "    labels: ground truth tensor of shape (N,)\n",
        "\n",
        "    return: accuracy\n",
        "    '''\n",
        "    return (output.argmax(dim=1) == labels).float().mean().item()\n",
        "\n",
        "# training module\n",
        "def train(model: torch.nn.Module,\n",
        "         data: torch_geometric.data.Data,\n",
        "         A_hat: torch.Tensor,\n",
        "         epochs: int = 100,\n",
        "         lr: float = 0.01,\n",
        "         device: torch.device = torch.device('cpu')) -> tuple:\n",
        "\n",
        "\n",
        "    optimizer = torch.optim.Adam(model.parameters(), lr=lr) # use ADAM optimizer\n",
        "    criterion = torch.nn.CrossEntropyLoss()\n",
        "\n",
        "    losses_train = []\n",
        "    accuracies_train = []\n",
        "    losses_val = []\n",
        "    accuracies_val = []\n",
        "\n",
        "    model.to(device)\n",
        "    data.x = data.x.to(device)\n",
        "    data.y = data.y.to(device)\n",
        "    A_hat = A_hat.to(device)\n",
        "\n",
        "    print(f\"{'*'*10} Training on {device} {'*'*10}\")\n",
        "    print()\n",
        "\n",
        "    # loop over epochs\n",
        "    for epoch in range(epochs):\n",
        "        model.train()\n",
        "        optimizer.zero_grad()\n",
        "        output = model(data.x, A_hat)\n",
        "        loss = criterion(output[data.train_mask], data.y[data.train_mask])\n",
        "        loss.backward()\n",
        "        optimizer.step()\n",
        "\n",
        "        losses_train.append(loss.item())\n",
        "        accuracies_train.append(accuracy(output[data.train_mask], data.y[data.train_mask]))\n",
        "        if epoch % 10 == 0:\n",
        "            print(f\"{'*'*10} Training {'*'*10}\")\n",
        "            print(f'''Epoch: {epoch}, Train loss: {losses_train[-1]}, Train accuracy: {round(accuracies_train[-1], 4)*100}%''')\n",
        "\n",
        "\n",
        "        with torch.no_grad():\n",
        "            # validation\n",
        "            model.eval()\n",
        "            output = model(data.x, A_hat)\n",
        "            loss = criterion(output[data.val_mask], data.y[data.val_mask])\n",
        "            losses_val.append(loss.item())\n",
        "            accuracies_val.append(accuracy(output[data.val_mask], data.y[data.val_mask]))\n",
        "            if epoch % 10 == 0:\n",
        "                print(f\"{'*'*10} Validation {'*'*10}\")\n",
        "                print(f'''Epoch: {epoch}, Val loss: {losses_val[-1]}, Val accuracy: {round(accuracies_val[-1], 4)*100}%''')\n",
        "                print()\n",
        "\n",
        "    return (losses_train, accuracies_train, losses_val, accuracies_val, model)"
      ]
    },
    {
      "cell_type": "code",
      "execution_count": null,
      "metadata": {
        "colab": {
          "base_uri": "https://localhost:8080/"
        },
        "id": "4VuQO6dIGEyJ",
        "outputId": "3b5b5ad5-e481-4daf-dc44-126d6d6b87d3"
      },
      "outputs": [
        {
          "name": "stdout",
          "output_type": "stream",
          "text": [
            "GCN(\n",
            "  (layers): ModuleList(\n",
            "    (0): GCNLayer()\n",
            "    (1): ReLU()\n",
            "    (2): GCNLayer()\n",
            "  )\n",
            ")\n",
            "********** Training on cuda **********\n",
            "\n",
            "********** Training **********\n",
            "Epoch: 0, Train loss: 2.677960157394409, Train accuracy: 14.29%\n",
            "********** Validation **********\n",
            "Epoch: 0, Val loss: 2.131051540374756, Val accuracy: 19.8%\n",
            "\n",
            "********** Training **********\n",
            "Epoch: 10, Train loss: 0.20115429162979126, Train accuracy: 100.0%\n",
            "********** Validation **********\n",
            "Epoch: 10, Val loss: 1.0202049016952515, Val accuracy: 68.60000000000001%\n",
            "\n",
            "********** Training **********\n",
            "Epoch: 20, Train loss: 0.019600240513682365, Train accuracy: 100.0%\n",
            "********** Validation **********\n",
            "Epoch: 20, Val loss: 0.8915947675704956, Val accuracy: 75.0%\n",
            "\n",
            "********** Training **********\n",
            "Epoch: 30, Train loss: 0.004413452930748463, Train accuracy: 100.0%\n",
            "********** Validation **********\n",
            "Epoch: 30, Val loss: 0.9862690567970276, Val accuracy: 74.4%\n",
            "\n",
            "********** Training **********\n",
            "Epoch: 40, Train loss: 0.0019841212779283524, Train accuracy: 100.0%\n",
            "********** Validation **********\n",
            "Epoch: 40, Val loss: 1.0475186109542847, Val accuracy: 74.2%\n",
            "\n",
            "********** Training **********\n",
            "Epoch: 50, Train loss: 0.00129547284450382, Train accuracy: 100.0%\n",
            "********** Validation **********\n",
            "Epoch: 50, Val loss: 1.0723600387573242, Val accuracy: 73.6%\n",
            "\n",
            "********** Training **********\n",
            "Epoch: 60, Train loss: 0.00101816700771451, Train accuracy: 100.0%\n",
            "********** Validation **********\n",
            "Epoch: 60, Val loss: 1.0827252864837646, Val accuracy: 73.4%\n",
            "\n",
            "********** Training **********\n",
            "Epoch: 70, Train loss: 0.0008666337234899402, Train accuracy: 100.0%\n",
            "********** Validation **********\n",
            "Epoch: 70, Val loss: 1.08980131149292, Val accuracy: 73.4%\n",
            "\n",
            "********** Training **********\n",
            "Epoch: 80, Train loss: 0.0007653107168152928, Train accuracy: 100.0%\n",
            "********** Validation **********\n",
            "Epoch: 80, Val loss: 1.0964117050170898, Val accuracy: 73.4%\n",
            "\n",
            "********** Training **********\n",
            "Epoch: 90, Train loss: 0.0006884475005790591, Train accuracy: 100.0%\n",
            "********** Validation **********\n",
            "Epoch: 90, Val loss: 1.1025887727737427, Val accuracy: 73.6%\n",
            "\n"
          ]
        }
      ],
      "source": [
        "# remodel and print outputs\n",
        "hidden_features = 32\n",
        "model = GCN(data.x.shape[1], hidden_features, len(torch.unique(data.y)))\n",
        "print(model)\n",
        "\n",
        "kwargs = {'epochs': 100, 'lr': 0.01, 'device': device, 'A_hat': A_hat, 'data': data, 'model': model}\n",
        "\n",
        "(losses_train, accuracies_train, losses_val, accuracies_val, model_trained) = train(**kwargs)"
      ]
    },
    {
      "cell_type": "code",
      "execution_count": null,
      "metadata": {
        "colab": {
          "base_uri": "https://localhost:8080/",
          "height": 465
        },
        "id": "6-LQJN2cGEyJ",
        "outputId": "3be4c250-1267-4f71-ba63-2ed8a8e3e9bc"
      },
      "outputs": [
        {
          "data": {
            "image/png": "[encoded data removed]",
            "text/plain": [
              "<Figure size 1000x500 with 2 Axes>"
            ]
          },
          "metadata": {},
          "output_type": "display_data"
        }
      ],
      "source": [
        "# plot training and validation accuracy\n",
        "import matplotlib.pyplot as plt\n",
        "def plot_results(losses_train: list,\n",
        "                 accuracies_train: list,\n",
        "                 losses_val: list,\n",
        "                 accuracies_val: list) -> None:\n",
        "\n",
        "    fig, ax = plt.subplots(1, 2, figsize=(10, 5))\n",
        "\n",
        "    epochs = range(len(losses_train))\n",
        "\n",
        "    ax[0].plot(epochs, losses_train, label='Train loss')\n",
        "    ax[0].plot(epochs, losses_val, label='Validation loss')\n",
        "    ax[0].set_xlabel('Epochs')\n",
        "\n",
        "    ax[1].plot(epochs, accuracies_train, label='Train accuracy')\n",
        "    ax[1].plot(epochs, accuracies_val, label='Validation accuracy')\n",
        "    ax[1].set_xlabel('Epochs')\n",
        "\n",
        "    ax[0].legend()\n",
        "    ax[1].legend()\n",
        "\n",
        "    plt.show()\n",
        "\n",
        "plot_results(losses_train, accuracies_train, losses_val, accuracies_val)\n"
      ]
    },
    {
      "cell_type": "code",
      "execution_count": null,
      "metadata": {
        "colab": {
          "base_uri": "https://localhost:8080/"
        },
        "id": "Kp9eNVU2hADa",
        "outputId": "3b5a4ef4-05c8-4068-df60-42e1cea66ddd"
      },
      "outputs": [
        {
          "name": "stdout",
          "output_type": "stream",
          "text": [
            "********** Testing **********\n",
            " AVG Test Loss: 0.9340, Test Accuracy: 76.50%\n"
          ]
        }
      ],
      "source": [
        "# plot test accuracy\n",
        "def test(model: torch.nn.Module,\n",
        "         data: torch_geometric.data.Data,\n",
        "         A_hat: torch.Tensor,\n",
        "         device: torch.device = torch.device('cpu')) -> tuple:\n",
        "\n",
        "    criterion = torch.nn.CrossEntropyLoss()\n",
        "\n",
        "    # running_acc = 0.0\n",
        "    # running_loss = 0.0\n",
        "    # total_samples = 0\n",
        "\n",
        "    model.to(device)\n",
        "    data.x = data.x.to(device)\n",
        "    data.y = data.y.to(device)\n",
        "    A_hat = A_hat.to(device)\n",
        "\n",
        "    print(f\"{'*'*10} Testing {'*'*10}\")\n",
        "    model.eval()\n",
        "    with torch.no_grad():\n",
        "        output = model(data.x, A_hat)\n",
        "        loss_  = criterion(output[data.test_mask], data.y[data.test_mask])\n",
        "        acc    = accuracy(output[data.test_mask], data.y[data.test_mask])\n",
        "\n",
        "    print(f\" AVG Test Loss: {loss_:.4f}, Test Accuracy: {acc*100:.2f}%\")\n",
        "\n",
        "test(model_trained, data, A_hat, device)"
      ]
    },
    {
      "cell_type": "markdown",
      "metadata": {
        "id": "vb5YjHVClCqo"
      },
      "source": [
        "#### Question 10\n",
        "\n",
        "The paper introduces GCNs as a way to solve a *semi-supervised* classification problem.\n",
        "\n",
        "- What makes this problem semi-supervised?\n",
        "- What is the proportion of labeled data used for training with respect to labeled data in the validation and test sets? What is difference in this context with other benchmark tasks in machine learning, like image classification with MNIST?\n",
        "- Why do you think the GCN performs well in this semi-supervised scenario?"
      ]
    },
    {
      "cell_type": "markdown",
      "metadata": {
        "id": "4rawFy8AGEyK"
      },
      "source": [
        "- Semi-supervised learning uses both labeled and unlabeled data to classify nodes. The graph structure in the adjacency matrix can provide useful information that is not in the node features.\n",
        "- The training set has only 20 nodes per class, while the validation and test sets have 500 and 1000 nodes respectively. This is a very small fraction of training data compared to image classification tasks, where usually more than 75% of the data is used for training.\n",
        "- GCNs can perform well in this scenario because they aggregate information from the neighbors of each node. This way, an unlabeled node can benefit from the information of a labeled neighbor, and infer that they may belong to the same class."
      ]
    },
    {
      "cell_type": "markdown",
      "metadata": {
        "id": "4ihrjZddvz5d"
      },
      "source": [
        "### Loading a dataset of proteins\n",
        "\n",
        "In the previous sections you learned how to pass the adjacency matrix of a graph with a couple of thousand of nodes, to classify each node with a particular label. A different and useful application of GCNs is graph classification.\n",
        "\n",
        "In contrast with the previous part, where there was a single, big graph, in graph classification we have multiple graphs, and each graph can be assigned a label. In this part of the tutorial you will implement a classifier for proteins.\n",
        "\n",
        "[Proteins](https://en.wikipedia.org/wiki/Protein_(nutrient)) are parts of the buildings block of life. They consist of chains of amino acids, and can take many shapes. In the PROTEINS dataset, proteins are represented as graphs, where the nodes are amino acids, and an edge between them indicates that they are 6 [Angstroms](https://en.wikipedia.org/wiki/Angstrom) apart. All graphs have a binary label, where 1 means that the protein is not an enzyme.\n",
        "\n",
        "We will start by loading and examining this dataset."
      ]
    },
    {
      "cell_type": "code",
      "execution_count": null,
      "metadata": {
        "colab": {
          "base_uri": "https://localhost:8080/"
        },
        "id": "xmqweMcvnUH6",
        "outputId": "ebdce8b9-7d3a-4ff0-bae2-e24e4702324b"
      },
      "outputs": [
        {
          "name": "stderr",
          "output_type": "stream",
          "text": [
            "Downloading https://www.chrsmrrs.com/graphkerneldatasets/PROTEINS.zip\n",
            "Extracting data/TU/PROTEINS/PROTEINS.zip\n",
            "Processing...\n",
            "Done!\n"
          ]
        }
      ],
      "source": [
        "from torch_geometric.datasets import TUDataset\n",
        "dataset = TUDataset(root='data/TU', name='PROTEINS', use_node_attr=True)"
      ]
    },
    {
      "cell_type": "markdown",
      "metadata": {
        "id": "_oF1gyKPXiz-"
      },
      "source": [
        "#### Question 11\n",
        "\n",
        "Unlike in the previous part, where we selected the first element returned by the loading function, note that here we get all the elements returned by `TUDataset()`. `dataset` is an interable object, that has some similar behaviors as a Python list: you can call `len()` on it, and you can takes slices from it.\n",
        "\n",
        "Each element in `dataset` is a `Data` object containing a graph that represents a protein. This is the same type of object that we used in the previous part to store the Cora citation network.\n",
        "\n",
        "Knowing this, answer the following:\n",
        "\n",
        "- How many proteins (graphs) are there in `dataset`?\n",
        "- Take any protein from `dataset`. How many nodes and edges does it contain? What is its label? How many features does each node have?"
      ]
    },
    {
      "cell_type": "code",
      "execution_count": null,
      "metadata": {
        "colab": {
          "base_uri": "https://localhost:8080/"
        },
        "id": "ZNPsnXXbbHHe",
        "outputId": "b77930d4-d52d-4434-8494-45d13f598318"
      },
      "outputs": [
        {
          "name": "stdout",
          "output_type": "stream",
          "text": [
            "Number of graphs:  1113\n",
            "Number of nodes:  42\n",
            "Number of edges:  162\n",
            "Number of features:  4\n",
            "Number of classes:  2\n"
          ]
        }
      ],
      "source": [
        "# Your answer here\n",
        "print('Number of graphs: ', len(dataset))\n",
        "print('Number of nodes: ', dataset[0].num_nodes)\n",
        "print('Number of edges: ', dataset[0].num_edges)\n",
        "print('Number of features: ', dataset[0].num_features)\n",
        "print('Number of classes: ', dataset.num_classes)"
      ]
    },
    {
      "cell_type": "markdown",
      "metadata": {
        "id": "kHSklBZXpKpR"
      },
      "source": [
        "#### Question 12\n",
        "\n",
        "To properly train and evaluate our model, we need training, validation, and test splits.\n",
        "\n",
        "For reproducibility purposes, we generate a random tensor of indices for you. Use it to extract the three splits from `dataset`.\n",
        "\n",
        "For training, take 80% of the indices (starting from the first element in `indices`), then the following 10% for validation, and the remaining 10% for testing. You can use the indices to index `dataset`.\n",
        "\n",
        "Call the resulting splits `train_dataset`, `valid_dataset`, and `test_dataset`."
      ]
    },
    {
      "cell_type": "code",
      "execution_count": null,
      "metadata": {
        "id": "ttY4d1GInn08"
      },
      "outputs": [],
      "source": [
        "# Don't erase the following three lines\n",
        "import torch\n",
        "torch.random.manual_seed(0)\n",
        "indices = torch.randperm(len(dataset))\n",
        "\n",
        "# Your answer here\n",
        "train_dataset = dataset[indices[:int(len(dataset)*0.8)]]\n",
        "val_dataset = dataset[indices[int(len(dataset)*0.8):int(len(dataset)*0.9)]]\n",
        "test_dataset = dataset[indices[int(len(dataset)*0.9):]]"
      ]
    },
    {
      "cell_type": "markdown",
      "metadata": {
        "id": "rDJbB4CQqsfp"
      },
      "source": [
        "### Working with a batch of graphs\n",
        "\n",
        "When working with the Cora dataset, you used the information in `data.edge_index` to build the sparse normalized adjacency matrix $\\hat{A}$ that is required by the GCN. We could do something similar here: for each graph, we build $\\hat{A}$, and pass it to the GCN. However, if the number of graphs is big, this can really slow down training.\n",
        "\n",
        "To avoid this, we will resort to a very useful trick that also allows us to reuse the same GCN you implemented previously. The trick makes it possible to do a forward pass through the GCN for multiple, disconnected graphs at the same time (instead of only one), much like when you train with mini-batches for other kinds of data.\n",
        "\n",
        "Let's first revisit the propagation rule of the GCN, $Z = \\hat{A}XW$, with an illustration (we have omitted the cells of $X$ and $W$ for clarity):\n",
        "\n",
        "<img src=\"https://raw.githubusercontent.com/dfdazac/dlvu-a5/main/img/02-gcn-forward.png\">\n",
        "\n",
        "If we have multiple graphs, we can still use the same propagation rule, if we\n",
        "\n",
        "- Set $\\hat{A}$ to be a block diagonal matrix, where the blocks are the different adjacency matrices of the graphs\n",
        "- Concatenate the feature matrices along the first dimension\n",
        "\n",
        "This is illustrated in the following figure, for a batch of 3 graphs. Note that the elements outside of the blocks are zero.\n",
        "\n",
        "<img src=\"https://raw.githubusercontent.com/dfdazac/dlvu-a5/main/img/02-gcn-batch-forward.png\">\n",
        "\n",
        "The resulting adjacency matrix $\\hat{A}_B$ can also be built as a sparse matrix, and once we have it together with the concatenated matrix of features, the computation of the graph convolution is exactly the same as before. Note how this trick also allows us to process graphs with different sizes and structures.\n"
      ]
    },
    {
      "cell_type": "markdown",
      "metadata": {
        "id": "0DLPJ62b2mQ6"
      },
      "source": [
        "#### Question 13\n",
        "\n",
        "\n",
        "Just as the citation network, the graphs in each of the datasets you created in Question 12 also have an `edge_index` attribute, which can be used to compute the normalized adjacency matrix $\\hat{A}$, for each graph.\n",
        "\n",
        "Reusing your code for Questions 3 and 5, define a function `get_a_norm()` that takes as input an element of a dataset (e.g. `train_dataset[0]`), and returns a `scipy.sparse` matrix containing $\\hat{A}$.\n",
        "\n",
        "Note that an element of a dataset has properties like `num_edges`, `num_nodes`, etc. which you can use here."
      ]
    },
    {
      "cell_type": "code",
      "execution_count": null,
      "metadata": {
        "id": "4nvPX2GB8oXp"
      },
      "outputs": [],
      "source": [
        "# Your answer here\n",
        "def get_a_norm(data):\n",
        "    '''\n",
        "    data: a graph data object from torch_geometric.data.Data\n",
        "    return: A_hat: normalized adjacency matrix of shape (N, N) -> torch.sparse_coo_tensor\n",
        "    '''\n",
        "    adj_matrix = coo_matrix((np.ones(len(data.edge_index[0])), (data.edge_index[0], data.edge_index[1])), shape=(data.num_nodes, data.num_nodes))\n",
        "    degree_matrix = diags(sum(adj_matrix.toarray()))\n",
        "    D_inv_sqrt = degree_matrix.power(-0.5)\n",
        "    A_hat = D_inv_sqrt @ adj_matrix @ D_inv_sqrt\n",
        "    A_hat = coo_matrix(A_hat)\n",
        "    indices = torch.tensor(np.vstack((A_hat.row, A_hat.col)), dtype=torch.long)\n",
        "    values = torch.tensor(A_hat.data, dtype=torch.float)\n",
        "    A_hat = torch.sparse_coo_tensor(indices, values, size=A_hat.shape)\n",
        "    return A_hat"
      ]
    },
    {
      "cell_type": "markdown",
      "metadata": {
        "id": "cBrmYBY3AfhW"
      },
      "source": [
        "#### Question 14\n",
        "\n",
        "To prepare the batch of graphs, we need to collect multiple adjacency matrices, feature matrices, and labels.\n",
        "\n",
        "When using the trick described in the last figure, we see that we have to keep track of when a graph starts and when it ends, so that we can later differentiate the outputs due to $X^{(0)}$, $X^{(1)}$, etc. To achieve this, we will additionally collect a 1D array of batch indices, one for each $X^{(i)}$.\n",
        "\n",
        "The 1D array has as many elements as rows in $X^{(i)}$, and it is filled with the value $i$ (the position of $X^{(i)}$ in the batch):\n",
        "\n",
        "<img src=\"https://raw.githubusercontent.com/dfdazac/dlvu-a5/main/img/03-batch-indices.png\">\n",
        "\n",
        "We will later concatenate all the 1D arrays along the first dimension, just as we will do with all the $X^{(i)}$.\n",
        "\n",
        "Define a function `prepare_graphs_batch()` that takes as input a dataset (e.g. `train_dataset`), and does the following\n",
        "\n",
        "- Create four empty lists:\n",
        "  - `adj_matrices`\n",
        "  - `feature_matrices`\n",
        "  - `batch_indices`\n",
        "  - `labels`\n",
        "- Iterate over the input dataset, getting one graph at a time. At each step, use your function from Question 13 to append the adjacency matrix to `adj_matrices`, append the matrix of input features to `feature_matrices`, create the array of batch indices (as explained above) and append it to `batch_indices`, and append the label of the graph to `labels`. **Make sure to convert the label to float**.\n",
        "- Once the loop is over, use `scipy.sparse.block_diag()` to build the block diagonal matrix $\\hat{A}_B$. Convert it to the COO format, and then use your answer to Question 6 to turn it into a sparse PyTorch tensor.\n",
        "- Use `torch.cat()` to concatenate the tensors in `feature_matrices` along the first dimension. Do this also for `batch_indices` and `labels`.\n",
        "- Return the 4 tensors computed in the previous two items."
      ]
    },
    {
      "cell_type": "code",
      "execution_count": null,
      "metadata": {
        "id": "SsQ0-JjSqFgD"
      },
      "outputs": [],
      "source": [
        "# Your answer here\n",
        "import scipy\n",
        "def prepare_graphs_batch(dataset: torch_geometric.data.Dataset) -> tuple:\n",
        "\n",
        "  # create empty lists\n",
        "  adj_matrices = []\n",
        "  feature_matrices = []\n",
        "  batch_indices = []\n",
        "  labels = []\n",
        "\n",
        "  # iterate over input dataset\n",
        "  for i, data in enumerate(dataset):\n",
        "    adj_matrices.append(get_a_norm(data))\n",
        "    feature_matrices.append(data.x)\n",
        "    batch_indices.append(torch.tensor([i]*data.num_nodes))\n",
        "    labels.append(data.y.float()) # label to float\n",
        "\n",
        "  # build diagonal matrix\n",
        "  adj_matrices = [adj_matrix.to_dense().numpy() for adj_matrix in adj_matrices]\n",
        "  adj_matrices = scipy.sparse.block_diag(adj_matrices)\n",
        "  adj_matrices = torch.sparse_coo_tensor(indices=np.vstack((adj_matrices.row, adj_matrices.col)),\n",
        "                                         values=adj_matrices.data, size=adj_matrices.shape)\n",
        "\n",
        "  # concatenate\n",
        "  A_hat = adj_matrices\n",
        "  X = torch.cat(feature_matrices)\n",
        "  batch_indices = torch.cat(batch_indices)\n",
        "  labels = torch.cat(labels)\n",
        "\n",
        "  return (A_hat, X, batch_indices, labels)"
      ]
    },
    {
      "cell_type": "markdown",
      "metadata": {
        "id": "i73P_EU0MSPX"
      },
      "source": [
        "Once your answer for the previous question is ready, you can run the next cell to prepare all the required information, for the train, validation, and test splits."
      ]
    },
    {
      "cell_type": "code",
      "execution_count": null,
      "metadata": {
        "colab": {
          "base_uri": "https://localhost:8080/"
        },
        "id": "Iol5FxJGMmAU",
        "outputId": "c4abf2b9-e482-48f9-df01-1145117d9c72"
      },
      "outputs": [
        {
          "name": "stdout",
          "output_type": "stream",
          "text": [
            "torch.Size([34240, 34240]) torch.Size([34240, 4]) torch.Size([34240]) torch.Size([890])\n",
            "torch.Size([4603, 4603]) torch.Size([4603, 4]) torch.Size([4603]) torch.Size([111])\n",
            "torch.Size([4628, 4628]) torch.Size([4628, 4]) torch.Size([4628]) torch.Size([112])\n"
          ]
        }
      ],
      "source": [
        "(A_hat_train, X_train, batch_indices_train, labels_train) = prepare_graphs_batch(train_dataset)\n",
        "(A_hat_val, X_val, batch_indices_val, labels_val) = prepare_graphs_batch(val_dataset)\n",
        "(A_hat_test, X_test, batch_indices_test, labels_test) = prepare_graphs_batch(test_dataset)\n",
        "\n",
        "# print to check shapes\n",
        "print(A_hat_train.shape, X_train.shape, batch_indices_train.shape, labels_train.shape)\n",
        "print(A_hat_val.shape, X_val.shape, batch_indices_val.shape, labels_val.shape)\n",
        "print(A_hat_test.shape, X_test.shape, batch_indices_test.shape, labels_test.shape)"
      ]
    },
    {
      "cell_type": "markdown",
      "metadata": {
        "id": "R6q-JU87NClh"
      },
      "source": [
        "### GCNs for graph classification\n",
        "\n",
        "We now have all the ingredients to pass a batch of graphs to a GCN. However, for each graph in the batch, the output $Z^{(i)}$ contains one row for each node in the graph. If the goal is to do classification at the graph level, we have to *pool* these vectors to then compute the required logits for classification.\n",
        "\n",
        "This operation is similar as how pooling works in a CNN. We could consider taking the mean of the vectors, the sum, or use max-pooling. The difference with respect to CNNs is that in our case, we have a batch of graphs, each potentially with a different number of nodes.\n",
        "\n",
        "To implement this specific pooling, we can use the scatter operation in the `torch_scatter` library, which comes when installing PyG. We will use it, together with the tensor of batch indices from the previous two questions, to pool the outputs of the GCN for each graph, into a single vector:\n",
        "\n",
        "<img src=\"https://raw.githubusercontent.com/dfdazac/dlvu-a5/main/img/04-scatter.png\">\n",
        "\n",
        "You can check more details in the [documentation](https://pytorch-scatter.readthedocs.io/en/latest/functions/scatter.html)."
      ]
    },
    {
      "cell_type": "markdown",
      "metadata": {
        "id": "QY87DX1uRhnY"
      },
      "source": [
        "#### Question 15\n",
        "\n",
        "Implement a `GraphClassifier` module using PyTorch.\n",
        "\n",
        "- The constructor should take as arguments the number of input features, the hidden dimension, and the number of classes.\n",
        "- The model should contain a instance of the `GCN` module (as you implemented it in Question 8). Use the same value for the hidden dimension and the number of output features (recall that your `GCN` module from Question 8 has two GCN layers).\n",
        "- The model should also contain a `torch.nn.Linear` layer, with the hidden dimension as the input features, and the number of classes as the output.\n",
        "- The forward method receives the concatenated matrix of features, the sparse block diagonal adjacency matrix, and the batch indices (the latter is used when calling `scatter`).\n",
        "- Use the following architecture in the forward pass:\n",
        "  - GCN $\\to$ ReLU $\\to$ scatter (max) $\\to$ Linear.\n",
        "\n",
        "The output of the forward should be a 1D tensor (you might need to call `squeeze` to get rid of extra dimensions) containing the logits for all graphs in the batch, for the binary classification task."
      ]
    },
    {
      "cell_type": "code",
      "execution_count": null,
      "metadata": {
        "id": "750WraywwYDH"
      },
      "outputs": [],
      "source": [
        "# Your answer here\n",
        "import torch_scatter\n",
        "\n",
        "class GraphClassifier(torch.nn.Module):\n",
        "    def __init__(self, in_features, hidden_features, out_features):\n",
        "        super().__init__()\n",
        "\n",
        "        self.in_features = in_features\n",
        "        self.hidden_features = hidden_features\n",
        "        self.out_features = out_features\n",
        "\n",
        "        self.layers = torch.nn.ModuleList()\n",
        "        \n",
        "        # use GCN module\n",
        "        self.layers.append(GCN(in_features, hidden_features, hidden_features))\n",
        "        self.layers.append(torch.nn.ReLU())\n",
        "        self.layers.append(torch.nn.Linear(hidden_features, out_features)) # linear layer\n",
        "\n",
        "    def forward(self, X: torch.Tensor, A_hat: torch.Tensor, batch_indices: torch.Tensor) -> torch.Tensor:\n",
        "        z = self.layers[0](X, A_hat)\n",
        "        z = self.layers[1](z) # activation function\n",
        "\n",
        "        z = torch_scatter.scatter(z, batch_indices, dim=0, reduce='max')\n",
        "        z = self.layers[2](z)\n",
        "        return z.squeeze() # return as squeezed tensor"
      ]
    },
    {
      "cell_type": "markdown",
      "metadata": {
        "id": "C1PHy-_vTjgh"
      },
      "source": [
        "#### Question 16\n",
        "\n",
        "Implement a training loop for the graph classifier. Use the data from Question 14 to train and evaluate the model.\n",
        "\n",
        "We encourage you to use a GPU in this section for faster training. Note that if you change the runtime at this point, you must re-execute several of the cells above, including the ones that install PyG.\n",
        "\n",
        "- Instantiate a classifier with 32 as the hidden dimension\n",
        "- Use Adam with a learning rate of 1e-3.\n",
        "- Use `torch.nn.BCEWithLogitsLoss` as the loss function.\n",
        "- Train for 5,000 epochs. Once training is done, plot the loss curve and the accuracy in the validation set. Then report the accuracy in the test set.\n",
        "\n",
        "**Note:** the logits from the output of the classifier come from a linear layer. To compute actual predictions for the calculation of the accuracy, pass the logits through `torch.sigmoid()`, and set the predicted values to 1 whenever they are greater than 0.5, and to 0 otherwise.\n",
        "\n",
        "You should get an accuracy equal to or higher than 70% in the validation and test sets. Can you beat the [state-of-the-art](https://paperswithcode.com/sota/graph-classification-on-proteins)? Feel free to modify your architecture and experiment with it.\n",
        "\n",
        "Discuss what you observe during training and your results."
      ]
    },
    {
      "cell_type": "code",
      "execution_count": null,
      "metadata": {
        "id": "hILnPhdKn1Mn"
      },
      "outputs": [],
      "source": [
        "# !pip install torchmetrics # Do pip install before running next cell"
      ]
    },
    {
      "cell_type": "code",
      "execution_count": null,
      "metadata": {
        "colab": {
          "base_uri": "https://localhost:8080/"
        },
        "id": "9DbGAs8W2Xja",
        "outputId": "af6d1e74-e08e-40a5-af44-bbc892487b6e"
      },
      "outputs": [
        {
          "name": "stdout",
          "output_type": "stream",
          "text": [
            "cuda\n"
          ]
        }
      ],
      "source": [
        "# If your runtime is GPU-enabled, use .to(device) to move the model\n",
        "# and all the relevant tensors to the GPU. You have to move tensors back to CPU\n",
        "# when computing metrics like accuracy, using .cpu().\n",
        "device = torch.device('cuda') if torch.cuda.is_available() else 'cpu'\n",
        "print(device)\n",
        "from torchmetrics.classification import BinaryAccuracy\n",
        "# Your answer here\n",
        "def train_gcn(model: torch.nn.Module,\n",
        "        X_train: torch.Tensor,\n",
        "        A_hat_train: torch.Tensor,\n",
        "        batch_indices_train: torch.Tensor,\n",
        "        labels_train: torch.Tensor,\n",
        "\n",
        "        X_val: torch.Tensor,\n",
        "        A_hat_val: torch.Tensor,\n",
        "        batch_indices_val: torch.Tensor,\n",
        "        labels_val: torch.Tensor,\n",
        "\n",
        "         epochs: int = 100, # use less epochs for testing\n",
        "         lr: float = 1e-3,\n",
        "         device: torch.device = torch.device('cpu')) -> tuple:\n",
        "\n",
        "    optimizer = torch.optim.Adam(model.parameters(), lr=lr) # ADAM optimizer\n",
        "    criterion = torch.nn.BCEWithLogitsLoss() # new loss function\n",
        "\n",
        "    losses_train = []\n",
        "    accuracies_train = []\n",
        "    losses_val = []\n",
        "    accuracies_val = []\n",
        "\n",
        "    model.to(device)\n",
        "    X_train = X_train.to(device)\n",
        "    A_hat_train = A_hat_train.to(device)\n",
        "    batch_indices_train = batch_indices_train.to(device)\n",
        "    labels_train = labels_train.to(device)\n",
        "\n",
        "    X_val = X_val.to(device)\n",
        "    A_hat_val = A_hat_val.to(device)\n",
        "    batch_indices_val = batch_indices_val.to(device)\n",
        "    labels_val = labels_val.to(device)\n",
        "\n",
        "    print(f\"{'*'*10} Training on {device} {'*'*10}\")\n",
        "    print()\n",
        "\n",
        "    for epoch in range(epochs):\n",
        "        model.train()\n",
        "        optimizer.zero_grad()\n",
        "        output = model(X_train, A_hat_train, batch_indices_train)\n",
        "        loss = criterion(output, labels_train)\n",
        "        loss.backward()\n",
        "        optimizer.step()\n",
        "\n",
        "        losses_train.append(loss.item())\n",
        "        accuracies_train.append(BinaryAccuracy().to(device)(torch.sigmoid(output), labels_train).item())\n",
        "        if epoch % 1000 == 0:\n",
        "            print(f\"{'*'*10} Training {'*'*10}\")\n",
        "            print(f'''Epoch: {epoch}, Train loss: {losses_train[-1]}, Train accuracy: {round(accuracies_train[-1], 4)*100}%''')\n",
        "\n",
        "\n",
        "        with torch.no_grad():\n",
        "\n",
        "            model.eval()\n",
        "            output = model(X_val, A_hat_val, batch_indices_val)\n",
        "            loss = criterion(output, labels_val)\n",
        "            losses_val.append(loss.item())\n",
        "            accuracies_val.append(BinaryAccuracy().to(device)(torch.sigmoid(output), labels_val).item())\n",
        "            if epoch % 1000 == 0:\n",
        "                print(f\"{'*'*10} Validation {'*'*10}\")\n",
        "                print(f'''Epoch: {epoch}, Val loss: {losses_val[-1]}, Val accuracy: {round(accuracies_val[-1], 4)*100}%''')\n",
        "                print()\n",
        "\n",
        "    return (losses_train, accuracies_train, losses_val, accuracies_val)"
      ]
    },
    {
      "cell_type": "code",
      "execution_count": null,
      "metadata": {
        "colab": {
          "base_uri": "https://localhost:8080/"
        },
        "id": "qms7TI5aGEyT",
        "outputId": "fbd2fb12-bac2-4af8-cc6b-8a1c9fe2ce8a"
      },
      "outputs": [
        {
          "name": "stdout",
          "output_type": "stream",
          "text": [
            "********** Training on cuda **********\n",
            "\n",
            "********** Training **********\n",
            "Epoch: 0, Train loss: 0.9106522798538208, Train accuracy: 40.79%\n",
            "********** Validation **********\n",
            "Epoch: 0, Val loss: 1.3750563859939575, Val accuracy: 37.84%\n",
            "\n",
            "********** Training **********\n",
            "Epoch: 1000, Train loss: 0.4879477620124817, Train accuracy: 75.96000000000001%\n",
            "********** Validation **********\n",
            "Epoch: 1000, Val loss: 0.5223827958106995, Val accuracy: 81.08%\n",
            "\n",
            "********** Training **********\n",
            "Epoch: 2000, Train loss: 0.45060014724731445, Train accuracy: 79.21000000000001%\n",
            "********** Validation **********\n",
            "Epoch: 2000, Val loss: 0.43258213996887207, Val accuracy: 81.08%\n",
            "\n",
            "********** Training **********\n",
            "Epoch: 3000, Train loss: 0.4260599911212921, Train accuracy: 80.78999999999999%\n",
            "********** Validation **********\n",
            "Epoch: 3000, Val loss: 0.451616108417511, Val accuracy: 77.48%\n",
            "\n",
            "********** Training **********\n",
            "Epoch: 4000, Train loss: 0.4050506353378296, Train accuracy: 81.46%\n",
            "********** Validation **********\n",
            "Epoch: 4000, Val loss: 0.499176025390625, Val accuracy: 77.48%\n",
            "\n"
          ]
        }
      ],
      "source": [
        "input_size = X_train.shape[1]\n",
        "hidden_size = 32\n",
        "output_size = 1 # binary classification\n",
        "\n",
        "model = GraphClassifier(input_size, hidden_size, output_size)\n",
        "\n",
        "learning_rate = 1e-3\n",
        "epochs = 5000\n",
        "\n",
        "(losses_train, accuracies_train, losses_val, accuracies_val) = train_gcn(model,\n",
        "                                                                         X_train,\n",
        "                                                                         A_hat_train,\n",
        "                                                                         batch_indices_train,\n",
        "                                                                         labels_train,\n",
        "                                                                         X_val,\n",
        "                                                                         A_hat_val,\n",
        "                                                                         batch_indices_val,\n",
        "                                                                         labels_val,\n",
        "                                                                         epochs=epochs,\n",
        "                                                                         lr=learning_rate,\n",
        "                                                                         device=device)"
      ]
    },
    {
      "cell_type": "code",
      "execution_count": null,
      "metadata": {
        "colab": {
          "base_uri": "https://localhost:8080/",
          "height": 465
        },
        "id": "tGMBLo_uL0WT",
        "outputId": "1ef98719-74b8-440b-f454-ce79589fb278"
      },
      "outputs": [
        {
          "data": {
            "image/png": "[encoded data removed]",
            "text/plain": [
              "<Figure size 1000x500 with 2 Axes>"
            ]
          },
          "metadata": {},
          "output_type": "display_data"
        }
      ],
      "source": [
        "plot_results(losses_train, accuracies_train, losses_val, accuracies_val)"
      ]
    },
    {
      "cell_type": "code",
      "execution_count": null,
      "metadata": {
        "colab": {
          "base_uri": "https://localhost:8080/"
        },
        "id": "jTpiRWcCQ49G",
        "outputId": "a847fd36-793c-425c-bdad-5606bffc0498"
      },
      "outputs": [
        {
          "name": "stdout",
          "output_type": "stream",
          "text": [
            "Test Loss: 0.719323456287384, \n",
            " Accuracy Test: 70.54%\n"
          ]
        }
      ],
      "source": [
        "def testing(model: torch.nn.Module,\n",
        "        X_test: torch.Tensor,\n",
        "        A_hat_test: torch.Tensor,\n",
        "        batch_indices_test: torch.Tensor,\n",
        "        labels_test: torch.Tensor,\n",
        "         device: torch.device = torch.device('cpu')) -> tuple:\n",
        "    '''\n",
        "    input: tensors and model\n",
        "    return: test loss & accuracy\n",
        "    '''\n",
        "\n",
        "    model.to(device)\n",
        "    X_test = X_test.to(device)\n",
        "    A_hat_test = A_hat_test.to(device)\n",
        "    batch_indices_test = batch_indices_test.to(device)\n",
        "    labels_test = labels_test.to(device)\n",
        "\n",
        "    model.eval()\n",
        "    with torch.no_grad():\n",
        "        output = model(X_test, A_hat_test, batch_indices_test)\n",
        "        loss = torch.nn.BCEWithLogitsLoss()(output, labels_test)\n",
        "        accuracy = BinaryAccuracy().to(device)(torch.sigmoid(output), labels_test)\n",
        "\n",
        "    return (loss.item(), accuracy.item())\n",
        "\n",
        "\n",
        "\n",
        "loss, accuracy = testing(model, X_test, A_hat_test, batch_indices_test, labels_test, device=device)\n",
        "\n",
        "print(f'Test Loss: {loss}, \\n Accuracy Test: {round(accuracy,4)*100}%')"
      ]
    },
    {
      "cell_type": "markdown",
      "metadata": {
        "id": "MvmAfDNMcnKD"
      },
      "source": [
        "## The end\n",
        "\n",
        "If you have made it all the way here successfully, congratulations! 🎉\n",
        "\n",
        "You have implemented your own GCN and tested it on a node classification task, and a more challenging classification task over multiple graphs.\n",
        "\n",
        "We hope you can use this knowledge to apply GCNs not only to the tasks described here, but other applications where data can be modeled as a graph.\n",
        "\n",
        "If you are interested in applying graph neural networks to larger graphs, or try newer architectures, you can dive deeper into [PyTorch Geometric](https://pytorch-geometric.readthedocs.io/en/latest/), a library with fast implementations for a wide range of architectures. It also comes with custom code that takes care of aspects that you dealt with manually in this notebook, like a more efficient implementation of the adjacency matrix multiplication via message-passing methods, and Data Loaders that relieve you from having to build block diagonal sparse matrices.\n",
        "\n",
        "You can also check the [Deep Graph Library](https://docs.dgl.ai/) another powerful library for deep learning on graphs which also integrates with other backends like TensorFlow."
      ]
    },
    {
      "cell_type": "markdown",
      "metadata": {
        "id": "MbzJ6YOiJ_z3"
      },
      "source": [
        "# Grading (10pt)"
      ]
    },
    {
      "cell_type": "markdown",
      "metadata": {
        "id": "4ulmoCIOKBwh"
      },
      "source": [
        "- Question 1: 0.25pt\n",
        "- Question 2: 0.25pt\n",
        "- Question 3: 0.5pt\n",
        "- Question 4: 0.25pt\n",
        "- Question 5: 0.5pt\n",
        "- Question 6: 0.5pt\n",
        "- Question 7: 0.5pt\n",
        "- Question 8: 0.5pt\n",
        "- Question 9: 1.5pt\n",
        "- Question 10: 0.5pt\n",
        "- Question 11: 0.25pt\n",
        "- Question 12: 0.5pt\n",
        "- Question 13: 0.5pt\n",
        "- Question 14: 1pt\n",
        "- Question 15: 1pt\n",
        "- Question 16: 1.5pt"
      ]
    }
  ],
  "metadata": {
    "accelerator": "GPU",
    "colab": {
      "include_colab_link": true,
      "provenance": []
    },
    "kernelspec": {
      "display_name": "Python 3 (ipykernel)",
      "language": "python",
      "name": "python3"
    },
    "language_info": {
      "codemirror_mode": {
        "name": "ipython",
        "version": 3
      },
      "file_extension": ".py",
      "mimetype": "text/x-python",
      "name": "python",
      "nbconvert_exporter": "python",
      "pygments_lexer": "ipython3",
      "version": "3.8.18"
    },
    "vscode": {
      "interpreter": {
        "hash": "a6f9bc41f70efc57c9b8114bd7b6e8192a068320789f91e2cbe6d3e96f6da538"
      }
    }
  },
  "nbformat": 4,
  "nbformat_minor": 0
}
